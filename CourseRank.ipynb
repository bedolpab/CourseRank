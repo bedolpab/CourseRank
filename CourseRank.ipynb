{
 "cells": [
  {
   "cell_type": "code",
   "execution_count": 144,
   "metadata": {
    "collapsed": true
   },
   "outputs": [],
   "source": [
    "import pandas as pd\n",
    "import numpy as np\n",
    "import json"
   ]
  },
  {
   "cell_type": "markdown",
   "source": [
    "## Read in scraped data -> DF\n",
    "Here we are using scraped data for courses provided by [David Tejuosho](https://github.com/DavidTeju). This algorithm serves as the foundation for [CourseWeb](https://github.com/DavidTeju/CourseWeb.git)."
   ],
   "metadata": {
    "collapsed": false
   }
  },
  {
   "cell_type": "code",
   "execution_count": 170,
   "outputs": [],
   "source": [
    "df = pd.read_json(\"../Data/courseTopicSets.json\")"
   ],
   "metadata": {
    "collapsed": false
   }
  },
  {
   "cell_type": "code",
   "execution_count": 171,
   "outputs": [
    {
     "data": {
      "text/plain": "    courseCode                                           topicSet\n0     AMST 110                                                 {}\n1     AMST 143                                                 {}\n2     AMST 144                                                 {}\n3     AMST 170                                                 {}\n4     AMST 200  {'american': 4, 'studies': 3, 'cutting-edge': ...\n..         ...                                                ...\n537    WII 355  {'designed': 1, 'wii': 1, 'reflect': 2, 'exami...\n538    WII 357  {'washington': 1, 'internship': 2, 'program': ...\n539    WII 358  {'international': 2, 'foreign': 2, 'policy': 1...\n540    WII 359  {'environmental': 3, 'sustainability': 1, 'int...\n541    WII 360  {'global': 1, 'women’s': 2, 'leadership': 1, '...\n\n[542 rows x 2 columns]",
      "text/html": "<div>\n<style scoped>\n    .dataframe tbody tr th:only-of-type {\n        vertical-align: middle;\n    }\n\n    .dataframe tbody tr th {\n        vertical-align: top;\n    }\n\n    .dataframe thead th {\n        text-align: right;\n    }\n</style>\n<table border=\"1\" class=\"dataframe\">\n  <thead>\n    <tr style=\"text-align: right;\">\n      <th></th>\n      <th>courseCode</th>\n      <th>topicSet</th>\n    </tr>\n  </thead>\n  <tbody>\n    <tr>\n      <th>0</th>\n      <td>AMST 110</td>\n      <td>{}</td>\n    </tr>\n    <tr>\n      <th>1</th>\n      <td>AMST 143</td>\n      <td>{}</td>\n    </tr>\n    <tr>\n      <th>2</th>\n      <td>AMST 144</td>\n      <td>{}</td>\n    </tr>\n    <tr>\n      <th>3</th>\n      <td>AMST 170</td>\n      <td>{}</td>\n    </tr>\n    <tr>\n      <th>4</th>\n      <td>AMST 200</td>\n      <td>{'american': 4, 'studies': 3, 'cutting-edge': ...</td>\n    </tr>\n    <tr>\n      <th>...</th>\n      <td>...</td>\n      <td>...</td>\n    </tr>\n    <tr>\n      <th>537</th>\n      <td>WII 355</td>\n      <td>{'designed': 1, 'wii': 1, 'reflect': 2, 'exami...</td>\n    </tr>\n    <tr>\n      <th>538</th>\n      <td>WII 357</td>\n      <td>{'washington': 1, 'internship': 2, 'program': ...</td>\n    </tr>\n    <tr>\n      <th>539</th>\n      <td>WII 358</td>\n      <td>{'international': 2, 'foreign': 2, 'policy': 1...</td>\n    </tr>\n    <tr>\n      <th>540</th>\n      <td>WII 359</td>\n      <td>{'environmental': 3, 'sustainability': 1, 'int...</td>\n    </tr>\n    <tr>\n      <th>541</th>\n      <td>WII 360</td>\n      <td>{'global': 1, 'women’s': 2, 'leadership': 1, '...</td>\n    </tr>\n  </tbody>\n</table>\n<p>542 rows × 2 columns</p>\n</div>"
     },
     "execution_count": 171,
     "metadata": {},
     "output_type": "execute_result"
    }
   ],
   "source": [
    "df"
   ],
   "metadata": {
    "collapsed": false
   }
  },
  {
   "cell_type": "markdown",
   "source": [
    "### Get topic string\n",
    "Joins together every topic word into a single string from keys\n",
    "```JSON\n",
    "\n",
    "{ Course : Count }\n",
    "```\n",
    "Returns joined string"
   ],
   "metadata": {
    "collapsed": false
   }
  },
  {
   "cell_type": "code",
   "execution_count": 147,
   "outputs": [],
   "source": [
    "def topic_string(course_df):\n",
    "    data = []\n",
    "    for i in course_df.topicSet.keys():\n",
    "        if len(i) > 1:\n",
    "            data.append(i)\n",
    "\n",
    "    return ' '.join(data)"
   ],
   "metadata": {
    "collapsed": false
   }
  },
  {
   "cell_type": "markdown",
   "source": [
    "### Get topic set\n",
    "Creates dictionary of `key: word` & `value: count` for a course. Final 3 columns contain\n",
    "- `d`: total length of document in $ d_i$ words\n",
    "- `code`: course code\n",
    "- `topic-string`: joined string of every topic word in description\n",
    "\n",
    "Returns dictionary containing all of the above"
   ],
   "metadata": {
    "collapsed": false
   }
  },
  {
   "cell_type": "code",
   "execution_count": 148,
   "outputs": [],
   "source": [
    "def get_topic_set(course_df):\n",
    "    data = {}\n",
    "    for k,v in course_df.topicSet.items():\n",
    "        if len(k) > 1:\n",
    "            data[k] = float(v)\n",
    "\n",
    "    data['d'] = float(len(data.keys()))\n",
    "    data['code'] = course_df.courseCode\n",
    "    data['topic-string'] = topic_string(course_df)\n",
    "    return data"
   ],
   "metadata": {
    "collapsed": false
   }
  },
  {
   "cell_type": "markdown",
   "source": [
    "### Test Dict\n",
    "Check if desired output is returned"
   ],
   "metadata": {
    "collapsed": false
   }
  },
  {
   "cell_type": "code",
   "execution_count": 149,
   "outputs": [],
   "source": [
    "test = get_topic_set(df.iloc[4])"
   ],
   "metadata": {
    "collapsed": false
   }
  },
  {
   "cell_type": "code",
   "execution_count": 150,
   "outputs": [
    {
     "data": {
      "text/plain": "{'american': 4.0,\n 'studies': 3.0,\n 'cutting-edge': 1.0,\n 'interdisciplinary': 2.0,\n 'field': 1.0,\n 'humanities': 1.0,\n 'helps': 1.0,\n 'answer': 1.0,\n 'critical': 1.0,\n 'questions': 1.0,\n 'society': 1.0,\n 'culture': 1.0,\n 'approach': 1.0,\n 'understanding': 1.0,\n 'multicultural': 1.0,\n 'world': 1.0,\n 'introduce': 1.0,\n 'theories': 1.0,\n 'methods': 1.0,\n 'chicago': 1.0,\n 'text': 1.0,\n 'takes': 1.0,\n 'close': 1.0,\n 'city’s': 1.0,\n 'people': 1.0,\n 'history': 1.0,\n 'art': 1.0,\n 'architecture': 1.0,\n 'literature': 1.0,\n 'd': 29.0,\n 'code': 'AMST 200',\n 'topic-string': 'american studies cutting-edge interdisciplinary field humanities helps answer critical questions society culture approach understanding multicultural world introduce theories methods chicago text takes close city’s people history art architecture literature'}"
     },
     "execution_count": 150,
     "metadata": {},
     "output_type": "execute_result"
    }
   ],
   "source": [
    "test"
   ],
   "metadata": {
    "collapsed": false
   }
  },
  {
   "cell_type": "markdown",
   "source": [
    "Check as DF"
   ],
   "metadata": {
    "collapsed": false
   }
  },
  {
   "cell_type": "code",
   "execution_count": 151,
   "outputs": [],
   "source": [
    "test_df = pd.DataFrame(index=[test['code']], data=[test])"
   ],
   "metadata": {
    "collapsed": false
   }
  },
  {
   "cell_type": "code",
   "execution_count": 152,
   "outputs": [
    {
     "data": {
      "text/plain": "          american  studies  cutting-edge  interdisciplinary  field  \\\nAMST 200       4.0      3.0           1.0                2.0    1.0   \n\n          humanities  helps  answer  critical  questions  ...  close  city’s  \\\nAMST 200         1.0    1.0     1.0       1.0        1.0  ...    1.0     1.0   \n\n          people  history  art  architecture  literature     d      code  \\\nAMST 200     1.0      1.0  1.0           1.0         1.0  29.0  AMST 200   \n\n                                               topic-string  \nAMST 200  american studies cutting-edge interdisciplinar...  \n\n[1 rows x 32 columns]",
      "text/html": "<div>\n<style scoped>\n    .dataframe tbody tr th:only-of-type {\n        vertical-align: middle;\n    }\n\n    .dataframe tbody tr th {\n        vertical-align: top;\n    }\n\n    .dataframe thead th {\n        text-align: right;\n    }\n</style>\n<table border=\"1\" class=\"dataframe\">\n  <thead>\n    <tr style=\"text-align: right;\">\n      <th></th>\n      <th>american</th>\n      <th>studies</th>\n      <th>cutting-edge</th>\n      <th>interdisciplinary</th>\n      <th>field</th>\n      <th>humanities</th>\n      <th>helps</th>\n      <th>answer</th>\n      <th>critical</th>\n      <th>questions</th>\n      <th>...</th>\n      <th>close</th>\n      <th>city’s</th>\n      <th>people</th>\n      <th>history</th>\n      <th>art</th>\n      <th>architecture</th>\n      <th>literature</th>\n      <th>d</th>\n      <th>code</th>\n      <th>topic-string</th>\n    </tr>\n  </thead>\n  <tbody>\n    <tr>\n      <th>AMST 200</th>\n      <td>4.0</td>\n      <td>3.0</td>\n      <td>1.0</td>\n      <td>2.0</td>\n      <td>1.0</td>\n      <td>1.0</td>\n      <td>1.0</td>\n      <td>1.0</td>\n      <td>1.0</td>\n      <td>1.0</td>\n      <td>...</td>\n      <td>1.0</td>\n      <td>1.0</td>\n      <td>1.0</td>\n      <td>1.0</td>\n      <td>1.0</td>\n      <td>1.0</td>\n      <td>1.0</td>\n      <td>29.0</td>\n      <td>AMST 200</td>\n      <td>american studies cutting-edge interdisciplinar...</td>\n    </tr>\n  </tbody>\n</table>\n<p>1 rows × 32 columns</p>\n</div>"
     },
     "execution_count": 152,
     "metadata": {},
     "output_type": "execute_result"
    }
   ],
   "source": [
    "test_df"
   ],
   "metadata": {
    "collapsed": false
   }
  },
  {
   "cell_type": "markdown",
   "source": [
    "### Courses-to-DF\n",
    "Takes all rows in original DataFrame and creates a new list dictionaries. Used to make a new DataFrame of the following structure: (Columns names may be different)\n",
    "\n",
    "| $D_i$ | Code | Topic String | Words ($w_i$)    |\n",
    "|-------|------|---|------------------|\n",
    "| float | str  | str | float $\\vee$ NaN |\n",
    "\n",
    "Numeric values are stored as NumPy values as per se Pandas"
   ],
   "metadata": {
    "collapsed": false
   }
  },
  {
   "cell_type": "code",
   "execution_count": 153,
   "outputs": [],
   "source": [
    "def courses_to_df(df):\n",
    "    data = []\n",
    "    for i in range(df.__len__()):\n",
    "        data.append(get_topic_set(df.iloc[i]))\n",
    "\n",
    "    return data"
   ],
   "metadata": {
    "collapsed": false
   }
  },
  {
   "cell_type": "code",
   "execution_count": 154,
   "outputs": [],
   "source": [
    "data = pd.DataFrame(courses_to_df(df))"
   ],
   "metadata": {
    "collapsed": false
   }
  },
  {
   "cell_type": "code",
   "execution_count": 155,
   "outputs": [
    {
     "data": {
      "text/plain": "        d      code                                       topic-string  \\\n0     0.0  AMST 110                                                      \n1     0.0  AMST 143                                                      \n2     0.0  AMST 144                                                      \n3     0.0  AMST 170                                                      \n4    29.0  AMST 200  american studies cutting-edge interdisciplinar...   \n..    ...       ...                                                ...   \n537  39.0   WII 355  designed wii reflect examine role individual c...   \n538  21.0   WII 357  washington internship program welcomes majors ...   \n539  16.0   WII 358  international foreign policy internship progra...   \n540  12.0   WII 359  environmental sustainability internship progra...   \n541  23.0   WII 360  global women’s leadership internship program o...   \n\n     american  studies  cutting-edge  interdisciplinary  field  humanities  \\\n0         NaN      NaN           NaN                NaN    NaN         NaN   \n1         NaN      NaN           NaN                NaN    NaN         NaN   \n2         NaN      NaN           NaN                NaN    NaN         NaN   \n3         NaN      NaN           NaN                NaN    NaN         NaN   \n4         4.0      3.0           1.0                2.0    1.0         1.0   \n..        ...      ...           ...                ...    ...         ...   \n537       NaN      NaN           NaN                NaN    NaN         NaN   \n538       NaN      NaN           NaN                NaN    NaN         NaN   \n539       NaN      NaN           NaN                NaN    NaN         NaN   \n540       NaN      1.0           NaN                NaN    NaN         NaN   \n541       NaN      NaN           NaN                NaN    NaN         NaN   \n\n     helps  ...  fits  branches  intern  host  embassies  nongovernmental  \\\n0      NaN  ...   NaN       NaN     NaN   NaN        NaN              NaN   \n1      NaN  ...   NaN       NaN     NaN   NaN        NaN              NaN   \n2      NaN  ...   NaN       NaN     NaN   NaN        NaN              NaN   \n3      NaN  ...   NaN       NaN     NaN   NaN        NaN              NaN   \n4      1.0  ...   NaN       NaN     NaN   NaN        NaN              NaN   \n..     ...  ...   ...       ...     ...   ...        ...              ...   \n537    NaN  ...   NaN       NaN     NaN   NaN        NaN              NaN   \n538    NaN  ...   1.0       1.0     NaN   NaN        NaN              NaN   \n539    NaN  ...   NaN       NaN     1.0   1.0        1.0              1.0   \n540    NaN  ...   NaN       NaN     1.0   NaN        NaN              NaN   \n541    NaN  ...   NaN       NaN     1.0   NaN        NaN              NaN   \n\n     geared  nation’s  non-governmental  corporation  \n0       NaN       NaN               NaN          NaN  \n1       NaN       NaN               NaN          NaN  \n2       NaN       NaN               NaN          NaN  \n3       NaN       NaN               NaN          NaN  \n4       NaN       NaN               NaN          NaN  \n..      ...       ...               ...          ...  \n537     NaN       NaN               NaN          NaN  \n538     NaN       NaN               NaN          NaN  \n539     NaN       NaN               NaN          NaN  \n540     1.0       NaN               NaN          NaN  \n541     NaN       1.0               1.0          1.0  \n\n[542 rows x 3230 columns]",
      "text/html": "<div>\n<style scoped>\n    .dataframe tbody tr th:only-of-type {\n        vertical-align: middle;\n    }\n\n    .dataframe tbody tr th {\n        vertical-align: top;\n    }\n\n    .dataframe thead th {\n        text-align: right;\n    }\n</style>\n<table border=\"1\" class=\"dataframe\">\n  <thead>\n    <tr style=\"text-align: right;\">\n      <th></th>\n      <th>d</th>\n      <th>code</th>\n      <th>topic-string</th>\n      <th>american</th>\n      <th>studies</th>\n      <th>cutting-edge</th>\n      <th>interdisciplinary</th>\n      <th>field</th>\n      <th>humanities</th>\n      <th>helps</th>\n      <th>...</th>\n      <th>fits</th>\n      <th>branches</th>\n      <th>intern</th>\n      <th>host</th>\n      <th>embassies</th>\n      <th>nongovernmental</th>\n      <th>geared</th>\n      <th>nation’s</th>\n      <th>non-governmental</th>\n      <th>corporation</th>\n    </tr>\n  </thead>\n  <tbody>\n    <tr>\n      <th>0</th>\n      <td>0.0</td>\n      <td>AMST 110</td>\n      <td></td>\n      <td>NaN</td>\n      <td>NaN</td>\n      <td>NaN</td>\n      <td>NaN</td>\n      <td>NaN</td>\n      <td>NaN</td>\n      <td>NaN</td>\n      <td>...</td>\n      <td>NaN</td>\n      <td>NaN</td>\n      <td>NaN</td>\n      <td>NaN</td>\n      <td>NaN</td>\n      <td>NaN</td>\n      <td>NaN</td>\n      <td>NaN</td>\n      <td>NaN</td>\n      <td>NaN</td>\n    </tr>\n    <tr>\n      <th>1</th>\n      <td>0.0</td>\n      <td>AMST 143</td>\n      <td></td>\n      <td>NaN</td>\n      <td>NaN</td>\n      <td>NaN</td>\n      <td>NaN</td>\n      <td>NaN</td>\n      <td>NaN</td>\n      <td>NaN</td>\n      <td>...</td>\n      <td>NaN</td>\n      <td>NaN</td>\n      <td>NaN</td>\n      <td>NaN</td>\n      <td>NaN</td>\n      <td>NaN</td>\n      <td>NaN</td>\n      <td>NaN</td>\n      <td>NaN</td>\n      <td>NaN</td>\n    </tr>\n    <tr>\n      <th>2</th>\n      <td>0.0</td>\n      <td>AMST 144</td>\n      <td></td>\n      <td>NaN</td>\n      <td>NaN</td>\n      <td>NaN</td>\n      <td>NaN</td>\n      <td>NaN</td>\n      <td>NaN</td>\n      <td>NaN</td>\n      <td>...</td>\n      <td>NaN</td>\n      <td>NaN</td>\n      <td>NaN</td>\n      <td>NaN</td>\n      <td>NaN</td>\n      <td>NaN</td>\n      <td>NaN</td>\n      <td>NaN</td>\n      <td>NaN</td>\n      <td>NaN</td>\n    </tr>\n    <tr>\n      <th>3</th>\n      <td>0.0</td>\n      <td>AMST 170</td>\n      <td></td>\n      <td>NaN</td>\n      <td>NaN</td>\n      <td>NaN</td>\n      <td>NaN</td>\n      <td>NaN</td>\n      <td>NaN</td>\n      <td>NaN</td>\n      <td>...</td>\n      <td>NaN</td>\n      <td>NaN</td>\n      <td>NaN</td>\n      <td>NaN</td>\n      <td>NaN</td>\n      <td>NaN</td>\n      <td>NaN</td>\n      <td>NaN</td>\n      <td>NaN</td>\n      <td>NaN</td>\n    </tr>\n    <tr>\n      <th>4</th>\n      <td>29.0</td>\n      <td>AMST 200</td>\n      <td>american studies cutting-edge interdisciplinar...</td>\n      <td>4.0</td>\n      <td>3.0</td>\n      <td>1.0</td>\n      <td>2.0</td>\n      <td>1.0</td>\n      <td>1.0</td>\n      <td>1.0</td>\n      <td>...</td>\n      <td>NaN</td>\n      <td>NaN</td>\n      <td>NaN</td>\n      <td>NaN</td>\n      <td>NaN</td>\n      <td>NaN</td>\n      <td>NaN</td>\n      <td>NaN</td>\n      <td>NaN</td>\n      <td>NaN</td>\n    </tr>\n    <tr>\n      <th>...</th>\n      <td>...</td>\n      <td>...</td>\n      <td>...</td>\n      <td>...</td>\n      <td>...</td>\n      <td>...</td>\n      <td>...</td>\n      <td>...</td>\n      <td>...</td>\n      <td>...</td>\n      <td>...</td>\n      <td>...</td>\n      <td>...</td>\n      <td>...</td>\n      <td>...</td>\n      <td>...</td>\n      <td>...</td>\n      <td>...</td>\n      <td>...</td>\n      <td>...</td>\n      <td>...</td>\n    </tr>\n    <tr>\n      <th>537</th>\n      <td>39.0</td>\n      <td>WII 355</td>\n      <td>designed wii reflect examine role individual c...</td>\n      <td>NaN</td>\n      <td>NaN</td>\n      <td>NaN</td>\n      <td>NaN</td>\n      <td>NaN</td>\n      <td>NaN</td>\n      <td>NaN</td>\n      <td>...</td>\n      <td>NaN</td>\n      <td>NaN</td>\n      <td>NaN</td>\n      <td>NaN</td>\n      <td>NaN</td>\n      <td>NaN</td>\n      <td>NaN</td>\n      <td>NaN</td>\n      <td>NaN</td>\n      <td>NaN</td>\n    </tr>\n    <tr>\n      <th>538</th>\n      <td>21.0</td>\n      <td>WII 357</td>\n      <td>washington internship program welcomes majors ...</td>\n      <td>NaN</td>\n      <td>NaN</td>\n      <td>NaN</td>\n      <td>NaN</td>\n      <td>NaN</td>\n      <td>NaN</td>\n      <td>NaN</td>\n      <td>...</td>\n      <td>1.0</td>\n      <td>1.0</td>\n      <td>NaN</td>\n      <td>NaN</td>\n      <td>NaN</td>\n      <td>NaN</td>\n      <td>NaN</td>\n      <td>NaN</td>\n      <td>NaN</td>\n      <td>NaN</td>\n    </tr>\n    <tr>\n      <th>539</th>\n      <td>16.0</td>\n      <td>WII 358</td>\n      <td>international foreign policy internship progra...</td>\n      <td>NaN</td>\n      <td>NaN</td>\n      <td>NaN</td>\n      <td>NaN</td>\n      <td>NaN</td>\n      <td>NaN</td>\n      <td>NaN</td>\n      <td>...</td>\n      <td>NaN</td>\n      <td>NaN</td>\n      <td>1.0</td>\n      <td>1.0</td>\n      <td>1.0</td>\n      <td>1.0</td>\n      <td>NaN</td>\n      <td>NaN</td>\n      <td>NaN</td>\n      <td>NaN</td>\n    </tr>\n    <tr>\n      <th>540</th>\n      <td>12.0</td>\n      <td>WII 359</td>\n      <td>environmental sustainability internship progra...</td>\n      <td>NaN</td>\n      <td>1.0</td>\n      <td>NaN</td>\n      <td>NaN</td>\n      <td>NaN</td>\n      <td>NaN</td>\n      <td>NaN</td>\n      <td>...</td>\n      <td>NaN</td>\n      <td>NaN</td>\n      <td>1.0</td>\n      <td>NaN</td>\n      <td>NaN</td>\n      <td>NaN</td>\n      <td>1.0</td>\n      <td>NaN</td>\n      <td>NaN</td>\n      <td>NaN</td>\n    </tr>\n    <tr>\n      <th>541</th>\n      <td>23.0</td>\n      <td>WII 360</td>\n      <td>global women’s leadership internship program o...</td>\n      <td>NaN</td>\n      <td>NaN</td>\n      <td>NaN</td>\n      <td>NaN</td>\n      <td>NaN</td>\n      <td>NaN</td>\n      <td>NaN</td>\n      <td>...</td>\n      <td>NaN</td>\n      <td>NaN</td>\n      <td>1.0</td>\n      <td>NaN</td>\n      <td>NaN</td>\n      <td>NaN</td>\n      <td>NaN</td>\n      <td>1.0</td>\n      <td>1.0</td>\n      <td>1.0</td>\n    </tr>\n  </tbody>\n</table>\n<p>542 rows × 3230 columns</p>\n</div>"
     },
     "execution_count": 155,
     "metadata": {},
     "output_type": "execute_result"
    }
   ],
   "source": [
    "data"
   ],
   "metadata": {
    "collapsed": false
   }
  },
  {
   "cell_type": "markdown",
   "source": [
    "Playground cell"
   ],
   "metadata": {
    "collapsed": false
   }
  },
  {
   "cell_type": "code",
   "execution_count": 156,
   "outputs": [
    {
     "data": {
      "text/plain": "542"
     },
     "execution_count": 156,
     "metadata": {},
     "output_type": "execute_result"
    }
   ],
   "source": [
    "len(data.index)"
   ],
   "metadata": {
    "collapsed": false
   }
  },
  {
   "cell_type": "markdown",
   "source": [
    "## BM25 Scoring Structure"
   ],
   "metadata": {
    "collapsed": false
   }
  },
  {
   "cell_type": "markdown",
   "source": [
    "### $L$-Corpus\n",
    "We find the summation of all documents $d_i$ in the corpus of size $N$, and divide by corpus size $N$ to find the average document size.\n",
    "$$\n",
    "L = \\frac{\\sum_i|d_i|}{N}\n",
    "$$"
   ],
   "metadata": {
    "collapsed": false
   }
  },
  {
   "cell_type": "code",
   "execution_count": 157,
   "outputs": [],
   "source": [
    "def l_corpus(corpus):\n",
    "    \"\"\"\n",
    "    Returns average document length in corpus\n",
    "    :param corpus: number of total documents\n",
    "    :return: sum of all words in corpus divided by corpus size\n",
    "    \"\"\"\n",
    "    return np.divide(corpus.sum(),corpus.size)"
   ],
   "metadata": {
    "collapsed": false
   }
  },
  {
   "cell_type": "code",
   "execution_count": 158,
   "outputs": [],
   "source": [
    "avg_dl = l_corpus(data.d)"
   ],
   "metadata": {
    "collapsed": false
   }
  },
  {
   "cell_type": "markdown",
   "source": [
    "### Total Frequency ($TF$)\n",
    "The function below takes in a query and a document and returns the total number of times the query appears in document<sub>j<sub>."
   ],
   "metadata": {
    "collapsed": false
   }
  },
  {
   "cell_type": "code",
   "execution_count": 159,
   "outputs": [],
   "source": [
    "def total_frequency(query, doc):\n",
    "    \"\"\"\n",
    "    Returns total number of times query appears in document\n",
    "    :param query: keyword being searched\n",
    "    :param doc: document to check\n",
    "    :return: word frequency or 0.0\n",
    "    \"\"\"\n",
    "    try:\n",
    "        return doc[query]\n",
    "    except KeyError as e:\n",
    "        return float(0)"
   ],
   "metadata": {
    "collapsed": false
   }
  },
  {
   "cell_type": "code",
   "execution_count": 160,
   "outputs": [
    {
     "data": {
      "text/plain": "0.0"
     },
     "execution_count": 160,
     "metadata": {},
     "output_type": "execute_result"
    }
   ],
   "source": [
    "total_frequency(\"not-a-word\", data.iloc[4])"
   ],
   "metadata": {
    "collapsed": false
   }
  },
  {
   "cell_type": "markdown",
   "source": [
    "### Document Frequency ($DF$)\n",
    "The function below takes in a query and the corpus to compute the total number of documents containing the query."
   ],
   "metadata": {
    "collapsed": false
   }
  },
  {
   "cell_type": "code",
   "execution_count": 161,
   "outputs": [],
   "source": [
    "def document_frequency(query, corpus):\n",
    "    \"\"\"\n",
    "    Returns total number of documents containing query\n",
    "    :param query: keyword being searched\n",
    "    :param corpus: document DataFrame\n",
    "    :return: number of documents containing query or O.0\n",
    "    \"\"\"\n",
    "    try:\n",
    "        return corpus[query].count()\n",
    "    except KeyError as e:\n",
    "        return float(0)"
   ],
   "metadata": {
    "collapsed": false
   }
  },
  {
   "cell_type": "code",
   "execution_count": 162,
   "outputs": [
    {
     "data": {
      "text/plain": "13"
     },
     "execution_count": 162,
     "metadata": {},
     "output_type": "execute_result"
    }
   ],
   "source": [
    "document_frequency(\"computer\", data)"
   ],
   "metadata": {
    "collapsed": false
   }
  },
  {
   "cell_type": "markdown",
   "source": [
    "### Inverse Document Frequency\n",
    "The function below takes in a query and the corpus to computer the inverse document frequency of the query. The function can be expressed as:\n",
    "$$\n",
    "IDF(q_i) = log(\\frac{N-DF(q_i)+0.5}{DF(q_i)+0.5})\n",
    "$$\n",
    "See [Athens University of Economics and Business](http://ipl.cs.aueb.gr/stougiannis/bm25.html) for more"
   ],
   "metadata": {
    "collapsed": false
   }
  },
  {
   "cell_type": "code",
   "execution_count": 163,
   "outputs": [],
   "source": [
    "def inverse_document_frequency(query, corpus):\n",
    "    \"\"\"\n",
    "    Inverse document frequency of query\n",
    "    :param query: keyword being searched\n",
    "    :param corpus: document DataFrame\n",
    "    :return: np.float64\n",
    "    \"\"\"\n",
    "    N = len(corpus.index)\n",
    "    DF = document_frequency(query, corpus)\n",
    "    try:\n",
    "        eval_nested = np.divide((N - DF + 0.5),DF + 0.5 )\n",
    "        return np.log(eval_nested)\n",
    "    except KeyError as e:\n",
    "        return float(0)"
   ],
   "metadata": {
    "collapsed": false
   }
  },
  {
   "cell_type": "code",
   "execution_count": 164,
   "outputs": [
    {
     "data": {
      "text/plain": "3.6692434795970774"
     },
     "execution_count": 164,
     "metadata": {},
     "output_type": "execute_result"
    }
   ],
   "source": [
    "inverse_document_frequency(\"computer\", data)"
   ],
   "metadata": {
    "collapsed": false
   }
  },
  {
   "cell_type": "markdown",
   "source": [
    "### BM25 Scoring Function\n",
    "The BM25 returns a `score`, i.e. a `rank` in our case, given a query. It takes in a document, a query, and the corpus. The summation of all scores per term in the query is computed to give a `score`. The following expression can be used to interpret the function. <i>Note: this is an implementation of the BM25 scoring function from [Badri Adhikari](https://youtu.be/a3sg6MH8m4k) and [Athens University of Economics and Business](http://ipl.cs.aueb.gr/stougiannis/bm25.html).</i>\n",
    "$$\n",
    "BM25(d_i, q_N) = \\sum_{i=1}^{N}\n",
    "\\begin{equation*}\n",
    "IDF(q_i)\\times\\frac{TF(q_i, d_j)\\times(k+1)}{TF(q_i,d_j)+k\\times(1-b+b\\times\\frac{d_j}{L})}\n",
    "\\end{equation*}\n",
    "$$\n",
    "1. $d_j$ represents a document, or a course in our case\n",
    "2. $q_N$ represents a query term. E.g. given `computer science`, $q_1$ refers to `computer` and $q_2$ refers to `science` (reminder: $i$ would begin at 0 in code)\n",
    "3. $L$ refers to our `l_corpus` function\n",
    "4. $TF$ refers to our `total_frequency` function\n",
    "5. $IDF$ refers to our `inverse_document_frequency` function\n"
   ],
   "metadata": {
    "collapsed": false
   }
  },
  {
   "cell_type": "code",
   "execution_count": 165,
   "outputs": [],
   "source": [
    "def BM25(document, query, corpus):\n",
    "    # Define constants\n",
    "    query = query.split(' ')\n",
    "    limit = len(query)\n",
    "    k = 2 # free params\n",
    "    b = 0.75 # free params\n",
    "    summation = 0\n",
    "\n",
    "    # Summation applied\n",
    "    for i in range(limit):\n",
    "        IDF = inverse_document_frequency(query[i], corpus)\n",
    "        TF_SUB_EXP_NUM = np.multiply(total_frequency(query[i], document), (k+1))\n",
    "        TF_SUB_EX_DEN = np.multiply(total_frequency(query[i], document) + k, (1-b+b*(document.d/l_corpus(corpus.d))))\n",
    "        TF_SUB_EVAL = np.divide(TF_SUB_EXP_NUM, TF_SUB_EX_DEN)\n",
    "        summation += np.multiply(IDF, TF_SUB_EVAL)\n",
    "\n",
    "    return summation"
   ],
   "metadata": {
    "collapsed": false
   }
  },
  {
   "cell_type": "markdown",
   "source": [
    "Check function works\n",
    "Test with course `CPSC 450` - CS course"
   ],
   "metadata": {
    "collapsed": false
   }
  },
  {
   "cell_type": "code",
   "execution_count": 166,
   "outputs": [
    {
     "data": {
      "text/plain": "6.063480720536059"
     },
     "execution_count": 166,
     "metadata": {},
     "output_type": "execute_result"
    }
   ],
   "source": [
    "BM25(data.iloc[216], \"computer\", data)"
   ],
   "metadata": {
    "collapsed": false
   }
  },
  {
   "cell_type": "markdown",
   "source": [
    "Now we run BM25 for all courses"
   ],
   "metadata": {
    "collapsed": false
   }
  },
  {
   "cell_type": "code",
   "execution_count": 167,
   "outputs": [],
   "source": [
    "scores = []\n",
    "for i in range(data.__len__()):\n",
    "    scores.append([BM25(data.iloc[i], \"computer science\", data), i])"
   ],
   "metadata": {
    "collapsed": false
   }
  },
  {
   "cell_type": "markdown",
   "source": [
    "Convert to a dataframe for easy analysis"
   ],
   "metadata": {
    "collapsed": false
   }
  },
  {
   "cell_type": "code",
   "execution_count": 168,
   "outputs": [],
   "source": [
    "ranks = pd.DataFrame(scores)\n",
    "ranks = ranks.sort_values(by=[0])"
   ],
   "metadata": {
    "collapsed": false
   }
  },
  {
   "cell_type": "markdown",
   "source": [
    "Validate output"
   ],
   "metadata": {
    "collapsed": false
   }
  },
  {
   "cell_type": "code",
   "execution_count": 169,
   "outputs": [
    {
     "data": {
      "text/plain": "            0    1\n192  4.400427  192\n213  4.400427  213\n291  5.142949  291\n219  5.322574  219\n188  5.677306  188\n..        ...  ...\n537       NaN  537\n538       NaN  538\n539       NaN  539\n540       NaN  540\n541       NaN  541\n\n[542 rows x 2 columns]",
      "text/html": "<div>\n<style scoped>\n    .dataframe tbody tr th:only-of-type {\n        vertical-align: middle;\n    }\n\n    .dataframe tbody tr th {\n        vertical-align: top;\n    }\n\n    .dataframe thead th {\n        text-align: right;\n    }\n</style>\n<table border=\"1\" class=\"dataframe\">\n  <thead>\n    <tr style=\"text-align: right;\">\n      <th></th>\n      <th>0</th>\n      <th>1</th>\n    </tr>\n  </thead>\n  <tbody>\n    <tr>\n      <th>192</th>\n      <td>4.400427</td>\n      <td>192</td>\n    </tr>\n    <tr>\n      <th>213</th>\n      <td>4.400427</td>\n      <td>213</td>\n    </tr>\n    <tr>\n      <th>291</th>\n      <td>5.142949</td>\n      <td>291</td>\n    </tr>\n    <tr>\n      <th>219</th>\n      <td>5.322574</td>\n      <td>219</td>\n    </tr>\n    <tr>\n      <th>188</th>\n      <td>5.677306</td>\n      <td>188</td>\n    </tr>\n    <tr>\n      <th>...</th>\n      <td>...</td>\n      <td>...</td>\n    </tr>\n    <tr>\n      <th>537</th>\n      <td>NaN</td>\n      <td>537</td>\n    </tr>\n    <tr>\n      <th>538</th>\n      <td>NaN</td>\n      <td>538</td>\n    </tr>\n    <tr>\n      <th>539</th>\n      <td>NaN</td>\n      <td>539</td>\n    </tr>\n    <tr>\n      <th>540</th>\n      <td>NaN</td>\n      <td>540</td>\n    </tr>\n    <tr>\n      <th>541</th>\n      <td>NaN</td>\n      <td>541</td>\n    </tr>\n  </tbody>\n</table>\n<p>542 rows × 2 columns</p>\n</div>"
     },
     "execution_count": 169,
     "metadata": {},
     "output_type": "execute_result"
    }
   ],
   "source": [
    "ranks"
   ],
   "metadata": {
    "collapsed": false
   }
  }
 ],
 "metadata": {
  "kernelspec": {
   "display_name": "Python 3",
   "language": "python",
   "name": "python3"
  },
  "language_info": {
   "codemirror_mode": {
    "name": "ipython",
    "version": 2
   },
   "file_extension": ".py",
   "mimetype": "text/x-python",
   "name": "python",
   "nbconvert_exporter": "python",
   "pygments_lexer": "ipython2",
   "version": "2.7.6"
  }
 },
 "nbformat": 4,
 "nbformat_minor": 0
}
